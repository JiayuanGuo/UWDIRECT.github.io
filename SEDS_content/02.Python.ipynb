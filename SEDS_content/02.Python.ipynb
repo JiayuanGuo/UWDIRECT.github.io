{
 "cells": [
  {
   "cell_type": "markdown",
   "metadata": {},
   "source": [
    "# Software Engineering for Data Scientists\n",
    "\n",
    "## *Introduction to Python & Jupyter notebooks*"
   ]
  },
  {
   "cell_type": "markdown",
   "metadata": {},
   "source": [
    "## Today's Objectives\n",
    "\n",
    "#### 1. Opening & Navigating the Jupyter Notebook\n",
    "\n",
    "#### 2. Simple Math in the Jupyter Notebook\n",
    "\n",
    "#### 3. Loading data with ``pandas``\n",
    "\n",
    "#### 4. Cleaning and Manipulating data with ``pandas``"
   ]
  },
  {
   "cell_type": "markdown",
   "metadata": {},
   "source": [
    "## 1. Opening and Navigating the Jupyter Notebook\n",
    "\n",
    "We will start today with the interactive environment that we will be using often through the course: the [Jupyter Notebook](http://jupyter.org).\n",
    "\n",
    "We will walk through the following steps together:\n",
    "\n",
    "1. Download [miniconda]() (be sure to get Version 3.5) and install it on your system (hopefully you have done this before coming to class)\n",
    "   ```\n",
    "   ```\n",
    "\n",
    "2. Use the ``conda`` command-line tool to update your package listing and install the Jupyter notebook:\n",
    "\n",
    "   Update ``conda``'s listing of packages for your system:\n",
    "   ```\n",
    "   $ conda update conda\n",
    "   ```\n",
    "   \n",
    "   Install Jupyter notebook and all its requirements\n",
    "   ```\n",
    "   $ conda install jupyter\n",
    "   ```\n",
    "   \n",
    "3. Navigate to the HCEPDB directory. For example:\n",
    "\n",
    "   ```\n",
    "   $ cd ~/Desktop/HCEPDB/\n",
    "   ```\n",
    "   \n",
    "   Use curl to download the main lecture notebook and the simple breakout notebook:\n",
    "   \n",
    "   ```\n",
    "   # you may skip this next step if you downloaded the file from your web browser\n",
    "   $ curl -O http://uwdirect.github.io/SEDS_content/02.Python.ipynb\n",
    "   \n",
    "   ...\n",
    "   $ curl -O http://uwdirect.github.io/SEDS_content/02.Simple_Breakout.ipynb\n",
    "   ...\n",
    "   \n",
    "   $ ls\n",
    "   ...\n",
    "   02.Python.ipnyb\n",
    "   02.Simple_Breakout.ipnyb\n",
    "   ...\n",
    "   ```\n",
    "\n",
    "4. Type ``jupyter notebook`` in the terminal to start the notebook\n",
    "\n",
    "   ```\n",
    "   $ jupyter notebook\n",
    "   ```\n",
    "   \n",
    "   If everything has worked correctly, it should automatically launch your default browser\n",
    "   ```\n",
    "   ```\n",
    "   \n",
    "5. Click on ``02.Python.ipnyb`` to open the notebook containing the content for this lecture.\n",
    "\n",
    "With that, you're set up to use the Jupyter notebook!"
   ]
  },
  {
   "cell_type": "markdown",
   "metadata": {},
   "source": [
    "## 2. Simple Math in the Jupyter Notebook"
   ]
  },
  {
   "cell_type": "markdown",
   "metadata": {},
   "source": [
    "Now that we have the Jupyter notebook up and running, we're going to do a short breakout exploring some of the mathematical functionality that Python offers.\n",
    "\n",
    "Please open [02.Simple_Breakout.ipynb](02.Simple_Breakout.ipynb), find a partner, and make your way through that notebook, typing and executing code along the way."
   ]
  },
  {
   "cell_type": "markdown",
   "metadata": {},
   "source": [
    "## 3. Loading data with ``pandas``\n",
    "\n",
    "With this simple Python computation experience under our belt, we can now move to doing some more interesting analysis."
   ]
  },
  {
   "cell_type": "markdown",
   "metadata": {},
   "source": [
    "### Python's Data Science Ecosystem\n",
    "\n",
    "In addition to Python's built-in modules like the ``math`` module we explored above, there are also many often-used third-party modules that are core tools for doing data science with Python.\n",
    "Some of the most important ones are:\n",
    "\n",
    "#### [``numpy``](http://numpy.org/): Numerical Python\n",
    "\n",
    "Numpy is short for \"Numerical Python\", and contains tools for efficient manipulation of arrays of data.\n",
    "If you have used other computational tools like IDL or MatLab, Numpy should feel very familiar.\n",
    "\n",
    "#### [``scipy``](http://scipy.org/): Scientific Python\n",
    "\n",
    "Scipy is short for \"Scientific Python\", and contains a wide range of functionality for accomplishing common scientific tasks, such as optimization/minimization, numerical integration, interpolation, and much more.\n",
    "We will not look closely at Scipy today, but we will use its functionality later in the course.\n",
    "\n",
    "#### [``pandas``](http://pandas.pydata.org/): Labeled Data Manipulation in Python\n",
    "\n",
    "Pandas is short for \"Panel Data\", and contains tools for doing more advanced manipulation of labeled data in Python, in particular with a columnar data structure called a *Data Frame*.\n",
    "If you've used the [R](http://rstats.org) statistical language (and in particular the so-called \"Hadley Stack\"), much of the functionality in Pandas should feel very familiar.\n",
    "\n",
    "#### [``matplotlib``](http://matplotlib.org): Visualization in Python\n",
    "\n",
    "Matplotlib started out as a Matlab plotting clone in Python, and has grown from there in the 15 years since its creation. It is the most popular data visualization tool currently in the Python data world (though other recent packages are starting to encroach on its monopoly)."
   ]
  },
  {
   "cell_type": "markdown",
   "metadata": {},
   "source": [
    "### Installing Pandas & friends\n",
    "\n",
    "Because the above packages are not included in Python itself, you need to install them separately. While it is possible to install these from source (compiling the C and/or Fortran code that does the heavy lifting under the hood) it is much easier to use a package manager like ``conda``. All it takes is to run\n",
    "\n",
    "```\n",
    "$ conda install numpy scipy pandas matplotlib\n",
    "```\n",
    "\n",
    "and (so long as your conda setup is working) the packages will be downloaded and installed on your system."
   ]
  },
  {
   "cell_type": "markdown",
   "metadata": {},
   "source": [
    "### Loading Data with Pandas"
   ]
  },
  {
   "cell_type": "code",
   "execution_count": 1,
   "metadata": {
    "collapsed": false
   },
   "outputs": [
    {
     "data": {
      "text/plain": [
       "['/Users/dacb/miniconda3/lib/python3.5/site-packages/numpy']"
      ]
     },
     "execution_count": 1,
     "metadata": {},
     "output_type": "execute_result"
    }
   ],
   "source": [
    "import numpy\n",
    "numpy.__path__"
   ]
  },
  {
   "cell_type": "code",
   "execution_count": 2,
   "metadata": {
    "collapsed": false
   },
   "outputs": [],
   "source": [
    "import pandas"
   ]
  },
  {
   "cell_type": "code",
   "execution_count": 3,
   "metadata": {
    "collapsed": false
   },
   "outputs": [],
   "source": [
    "df = pandas.DataFrame()"
   ]
  },
  {
   "cell_type": "markdown",
   "metadata": {},
   "source": [
    "Because we'll use it so much, we often import under a shortened name using the ``import ... as ...`` pattern:"
   ]
  },
  {
   "cell_type": "code",
   "execution_count": 4,
   "metadata": {
    "collapsed": false
   },
   "outputs": [],
   "source": [
    "import pandas as pd"
   ]
  },
  {
   "cell_type": "code",
   "execution_count": 5,
   "metadata": {
    "collapsed": true
   },
   "outputs": [],
   "source": [
    "df = pd.DataFrame()"
   ]
  },
  {
   "cell_type": "markdown",
   "metadata": {},
   "source": [
    "Now we can use the ``read_csv`` command to read the comma-separated-value data:"
   ]
  },
  {
   "cell_type": "code",
   "execution_count": 16,
   "metadata": {
    "collapsed": false
   },
   "outputs": [],
   "source": [
    "data = pd.read_csv('HCEPDB_moldata.csv')"
   ]
  },
  {
   "cell_type": "markdown",
   "metadata": {},
   "source": [
    "*Note: strings in Python can be defined either with double quotes or single quotes*"
   ]
  },
  {
   "cell_type": "markdown",
   "metadata": {},
   "source": [
    "### Viewing Pandas Dataframes"
   ]
  },
  {
   "cell_type": "markdown",
   "metadata": {},
   "source": [
    "The ``head()`` and ``tail()`` methods show us the first and last rows of the data"
   ]
  },
  {
   "cell_type": "code",
   "execution_count": 9,
   "metadata": {
    "collapsed": false
   },
   "outputs": [
    {
     "data": {
      "text/html": [
       "<div>\n",
       "<table border=\"1\" class=\"dataframe\">\n",
       "  <thead>\n",
       "    <tr style=\"text-align: right;\">\n",
       "      <th></th>\n",
       "      <th>id</th>\n",
       "      <th>SMILES_str</th>\n",
       "      <th>stoich_str</th>\n",
       "      <th>mass</th>\n",
       "      <th>pce</th>\n",
       "      <th>voc</th>\n",
       "      <th>jsc</th>\n",
       "      <th>e_homo_alpha</th>\n",
       "      <th>e_gap_alpha</th>\n",
       "      <th>e_lumo_alpha</th>\n",
       "      <th>tmp_smiles_str</th>\n",
       "    </tr>\n",
       "  </thead>\n",
       "  <tbody>\n",
       "    <tr>\n",
       "      <th>0</th>\n",
       "      <td>655365</td>\n",
       "      <td>C1C=CC=C1c1cc2[se]c3c4occc4c4nsnc4c3c2cn1</td>\n",
       "      <td>C18H9N3OSSe</td>\n",
       "      <td>394.3151</td>\n",
       "      <td>5.161953</td>\n",
       "      <td>0.867601</td>\n",
       "      <td>91.567575</td>\n",
       "      <td>-5.467601</td>\n",
       "      <td>2.022944</td>\n",
       "      <td>-3.444656</td>\n",
       "      <td>C1=CC=C(C1)c1cc2[se]c3c4occc4c4nsnc4c3c2cn1</td>\n",
       "    </tr>\n",
       "    <tr>\n",
       "      <th>1</th>\n",
       "      <td>1245190</td>\n",
       "      <td>C1C=CC=C1c1cc2[se]c3c(ncc4ccccc34)c2c2=C[SiH2]...</td>\n",
       "      <td>C22H15NSeSi</td>\n",
       "      <td>400.4135</td>\n",
       "      <td>5.261398</td>\n",
       "      <td>0.504824</td>\n",
       "      <td>160.401549</td>\n",
       "      <td>-5.104824</td>\n",
       "      <td>1.630750</td>\n",
       "      <td>-3.474074</td>\n",
       "      <td>C1=CC=C(C1)c1cc2[se]c3c(ncc4ccccc34)c2c2=C[SiH...</td>\n",
       "    </tr>\n",
       "    <tr>\n",
       "      <th>2</th>\n",
       "      <td>21847</td>\n",
       "      <td>C1C=c2ccc3c4c[nH]cc4c4c5[SiH2]C(=Cc5oc4c3c2=C1...</td>\n",
       "      <td>C24H17NOSi</td>\n",
       "      <td>363.4903</td>\n",
       "      <td>0.000000</td>\n",
       "      <td>0.000000</td>\n",
       "      <td>197.474780</td>\n",
       "      <td>-4.539526</td>\n",
       "      <td>1.462158</td>\n",
       "      <td>-3.077368</td>\n",
       "      <td>C1=CC=C(C1)C1=Cc2oc3c(c2[SiH2]1)c1c[nH]cc1c1cc...</td>\n",
       "    </tr>\n",
       "    <tr>\n",
       "      <th>3</th>\n",
       "      <td>65553</td>\n",
       "      <td>[SiH2]1C=CC2=C1C=C([SiH2]2)C1=Cc2[se]ccc2[SiH2]1</td>\n",
       "      <td>C12H12SeSi3</td>\n",
       "      <td>319.4448</td>\n",
       "      <td>6.138294</td>\n",
       "      <td>0.630274</td>\n",
       "      <td>149.887545</td>\n",
       "      <td>-5.230274</td>\n",
       "      <td>1.682250</td>\n",
       "      <td>-3.548025</td>\n",
       "      <td>C1=CC2=C([SiH2]1)C=C([SiH2]2)C1=Cc2[se]ccc2[Si...</td>\n",
       "    </tr>\n",
       "    <tr>\n",
       "      <th>4</th>\n",
       "      <td>720918</td>\n",
       "      <td>C1C=c2c3ccsc3c3[se]c4cc(oc4c3c2=C1)C1=CC=CC1</td>\n",
       "      <td>C20H12OSSe</td>\n",
       "      <td>379.3398</td>\n",
       "      <td>1.991366</td>\n",
       "      <td>0.242119</td>\n",
       "      <td>126.581347</td>\n",
       "      <td>-4.842119</td>\n",
       "      <td>1.809439</td>\n",
       "      <td>-3.032680</td>\n",
       "      <td>C1=CC=C(C1)c1cc2[se]c3c4sccc4c4=CCC=c4c3c2o1</td>\n",
       "    </tr>\n",
       "  </tbody>\n",
       "</table>\n",
       "</div>"
      ],
      "text/plain": [
       "        id                                         SMILES_str   stoich_str  \\\n",
       "0   655365          C1C=CC=C1c1cc2[se]c3c4occc4c4nsnc4c3c2cn1  C18H9N3OSSe   \n",
       "1  1245190  C1C=CC=C1c1cc2[se]c3c(ncc4ccccc34)c2c2=C[SiH2]...  C22H15NSeSi   \n",
       "2    21847  C1C=c2ccc3c4c[nH]cc4c4c5[SiH2]C(=Cc5oc4c3c2=C1...   C24H17NOSi   \n",
       "3    65553   [SiH2]1C=CC2=C1C=C([SiH2]2)C1=Cc2[se]ccc2[SiH2]1  C12H12SeSi3   \n",
       "4   720918       C1C=c2c3ccsc3c3[se]c4cc(oc4c3c2=C1)C1=CC=CC1   C20H12OSSe   \n",
       "\n",
       "       mass       pce       voc         jsc  e_homo_alpha  e_gap_alpha  \\\n",
       "0  394.3151  5.161953  0.867601   91.567575     -5.467601     2.022944   \n",
       "1  400.4135  5.261398  0.504824  160.401549     -5.104824     1.630750   \n",
       "2  363.4903  0.000000  0.000000  197.474780     -4.539526     1.462158   \n",
       "3  319.4448  6.138294  0.630274  149.887545     -5.230274     1.682250   \n",
       "4  379.3398  1.991366  0.242119  126.581347     -4.842119     1.809439   \n",
       "\n",
       "   e_lumo_alpha                                     tmp_smiles_str  \n",
       "0     -3.444656        C1=CC=C(C1)c1cc2[se]c3c4occc4c4nsnc4c3c2cn1  \n",
       "1     -3.474074  C1=CC=C(C1)c1cc2[se]c3c(ncc4ccccc34)c2c2=C[SiH...  \n",
       "2     -3.077368  C1=CC=C(C1)C1=Cc2oc3c(c2[SiH2]1)c1c[nH]cc1c1cc...  \n",
       "3     -3.548025  C1=CC2=C([SiH2]1)C=C([SiH2]2)C1=Cc2[se]ccc2[Si...  \n",
       "4     -3.032680       C1=CC=C(C1)c1cc2[se]c3c4sccc4c4=CCC=c4c3c2o1  "
      ]
     },
     "execution_count": 9,
     "metadata": {},
     "output_type": "execute_result"
    }
   ],
   "source": [
    "data.head()"
   ]
  },
  {
   "cell_type": "code",
   "execution_count": 10,
   "metadata": {
    "collapsed": false
   },
   "outputs": [
    {
     "data": {
      "text/html": [
       "<div>\n",
       "<table border=\"1\" class=\"dataframe\">\n",
       "  <thead>\n",
       "    <tr style=\"text-align: right;\">\n",
       "      <th></th>\n",
       "      <th>id</th>\n",
       "      <th>SMILES_str</th>\n",
       "      <th>stoich_str</th>\n",
       "      <th>mass</th>\n",
       "      <th>pce</th>\n",
       "      <th>voc</th>\n",
       "      <th>jsc</th>\n",
       "      <th>e_homo_alpha</th>\n",
       "      <th>e_gap_alpha</th>\n",
       "      <th>e_lumo_alpha</th>\n",
       "      <th>tmp_smiles_str</th>\n",
       "    </tr>\n",
       "  </thead>\n",
       "  <tbody>\n",
       "    <tr>\n",
       "      <th>2322844</th>\n",
       "      <td>2543603</td>\n",
       "      <td>[SiH2]1ccc2csc(c12)-c1sc(c2[SiH2]ccc12)-c1cnc(...</td>\n",
       "      <td>C22H14N4S3Si2</td>\n",
       "      <td>486.7506</td>\n",
       "      <td>0.000000</td>\n",
       "      <td>0.000000</td>\n",
       "      <td>0.000000</td>\n",
       "      <td>-5.632512</td>\n",
       "      <td>1.454082</td>\n",
       "      <td>-4.178430</td>\n",
       "      <td>c1sc(c2[SiH2]ccc12)-c1sc(c2[SiH2]ccc12)-c1cnc(...</td>\n",
       "    </tr>\n",
       "    <tr>\n",
       "      <th>2322845</th>\n",
       "      <td>2304057</td>\n",
       "      <td>[SiH2]1ccc2csc(c12)-c1sc(c2[SiH2]ccc12)-c1ccc(...</td>\n",
       "      <td>C22H14N4S3Si2</td>\n",
       "      <td>486.7506</td>\n",
       "      <td>9.335485</td>\n",
       "      <td>1.120744</td>\n",
       "      <td>128.197094</td>\n",
       "      <td>-5.720744</td>\n",
       "      <td>1.798600</td>\n",
       "      <td>-3.922144</td>\n",
       "      <td>c1sc(c2[SiH2]ccc12)-c1sc(c2[SiH2]ccc12)-c1ccc(...</td>\n",
       "    </tr>\n",
       "    <tr>\n",
       "      <th>2322846</th>\n",
       "      <td>2007035</td>\n",
       "      <td>[SiH2]1ccc2csc(c12)-c1sc(c2[SiH2]ccc12)-c1ccc(...</td>\n",
       "      <td>C26H18S3Si2</td>\n",
       "      <td>482.7982</td>\n",
       "      <td>2.498209</td>\n",
       "      <td>0.834995</td>\n",
       "      <td>46.046052</td>\n",
       "      <td>-5.434995</td>\n",
       "      <td>2.433160</td>\n",
       "      <td>-3.001835</td>\n",
       "      <td>c1sc(c2[SiH2]ccc12)-c1sc(c2[SiH2]ccc12)-c1ccc(...</td>\n",
       "    </tr>\n",
       "    <tr>\n",
       "      <th>2322847</th>\n",
       "      <td>1961981</td>\n",
       "      <td>C1ccc2c1c(sc2-c1scc2cc[SiH2]c12)-c1ccc(cc1)-c1...</td>\n",
       "      <td>C25H16S3SeSi</td>\n",
       "      <td>519.6454</td>\n",
       "      <td>2.679067</td>\n",
       "      <td>0.659243</td>\n",
       "      <td>62.544032</td>\n",
       "      <td>-5.259243</td>\n",
       "      <td>2.258468</td>\n",
       "      <td>-3.000775</td>\n",
       "      <td>c1sc(c2[SiH2]ccc12)-c1sc(c2Cccc12)-c1ccc(cc1)-...</td>\n",
       "    </tr>\n",
       "    <tr>\n",
       "      <th>2322848</th>\n",
       "      <td>2754558</td>\n",
       "      <td>[SiH2]1ccc2csc(c12)-c1sc(-c2sc(-c3scc4ccsc34)c...</td>\n",
       "      <td>C24H13NOS5Si</td>\n",
       "      <td>519.7887</td>\n",
       "      <td>1.272400</td>\n",
       "      <td>0.102802</td>\n",
       "      <td>190.489616</td>\n",
       "      <td>-4.702802</td>\n",
       "      <td>1.490950</td>\n",
       "      <td>-3.211851</td>\n",
       "      <td>c1sc(c2[SiH2]ccc12)-c1sc(-c2sc(-c3scc4ccsc34)c...</td>\n",
       "    </tr>\n",
       "  </tbody>\n",
       "</table>\n",
       "</div>"
      ],
      "text/plain": [
       "              id                                         SMILES_str  \\\n",
       "2322844  2543603  [SiH2]1ccc2csc(c12)-c1sc(c2[SiH2]ccc12)-c1cnc(...   \n",
       "2322845  2304057  [SiH2]1ccc2csc(c12)-c1sc(c2[SiH2]ccc12)-c1ccc(...   \n",
       "2322846  2007035  [SiH2]1ccc2csc(c12)-c1sc(c2[SiH2]ccc12)-c1ccc(...   \n",
       "2322847  1961981  C1ccc2c1c(sc2-c1scc2cc[SiH2]c12)-c1ccc(cc1)-c1...   \n",
       "2322848  2754558  [SiH2]1ccc2csc(c12)-c1sc(-c2sc(-c3scc4ccsc34)c...   \n",
       "\n",
       "            stoich_str      mass       pce       voc         jsc  \\\n",
       "2322844  C22H14N4S3Si2  486.7506  0.000000  0.000000    0.000000   \n",
       "2322845  C22H14N4S3Si2  486.7506  9.335485  1.120744  128.197094   \n",
       "2322846    C26H18S3Si2  482.7982  2.498209  0.834995   46.046052   \n",
       "2322847   C25H16S3SeSi  519.6454  2.679067  0.659243   62.544032   \n",
       "2322848   C24H13NOS5Si  519.7887  1.272400  0.102802  190.489616   \n",
       "\n",
       "         e_homo_alpha  e_gap_alpha  e_lumo_alpha  \\\n",
       "2322844     -5.632512     1.454082     -4.178430   \n",
       "2322845     -5.720744     1.798600     -3.922144   \n",
       "2322846     -5.434995     2.433160     -3.001835   \n",
       "2322847     -5.259243     2.258468     -3.000775   \n",
       "2322848     -4.702802     1.490950     -3.211851   \n",
       "\n",
       "                                            tmp_smiles_str  \n",
       "2322844  c1sc(c2[SiH2]ccc12)-c1sc(c2[SiH2]ccc12)-c1cnc(...  \n",
       "2322845  c1sc(c2[SiH2]ccc12)-c1sc(c2[SiH2]ccc12)-c1ccc(...  \n",
       "2322846  c1sc(c2[SiH2]ccc12)-c1sc(c2[SiH2]ccc12)-c1ccc(...  \n",
       "2322847  c1sc(c2[SiH2]ccc12)-c1sc(c2Cccc12)-c1ccc(cc1)-...  \n",
       "2322848  c1sc(c2[SiH2]ccc12)-c1sc(-c2sc(-c3scc4ccsc34)c...  "
      ]
     },
     "execution_count": 10,
     "metadata": {},
     "output_type": "execute_result"
    }
   ],
   "source": [
    "data.tail()"
   ]
  },
  {
   "cell_type": "markdown",
   "metadata": {},
   "source": [
    "The ``shape`` attribute shows us the number of elements:"
   ]
  },
  {
   "cell_type": "code",
   "execution_count": 11,
   "metadata": {
    "collapsed": false
   },
   "outputs": [
    {
     "data": {
      "text/plain": [
       "(2322849, 11)"
      ]
     },
     "execution_count": 11,
     "metadata": {},
     "output_type": "execute_result"
    }
   ],
   "source": [
    "data.shape"
   ]
  },
  {
   "cell_type": "markdown",
   "metadata": {},
   "source": [
    "The ``columns`` attribute gives us the column names"
   ]
  },
  {
   "cell_type": "code",
   "execution_count": 12,
   "metadata": {
    "collapsed": false
   },
   "outputs": [
    {
     "data": {
      "text/plain": [
       "Index(['id', 'SMILES_str', 'stoich_str', 'mass', 'pce', 'voc', 'jsc',\n",
       "       'e_homo_alpha', 'e_gap_alpha', 'e_lumo_alpha', 'tmp_smiles_str'],\n",
       "      dtype='object')"
      ]
     },
     "execution_count": 12,
     "metadata": {},
     "output_type": "execute_result"
    }
   ],
   "source": [
    "data.columns"
   ]
  },
  {
   "cell_type": "markdown",
   "metadata": {},
   "source": [
    "The ``index`` attribute gives us the index names"
   ]
  },
  {
   "cell_type": "code",
   "execution_count": 13,
   "metadata": {
    "collapsed": false
   },
   "outputs": [
    {
     "data": {
      "text/plain": [
       "Int64Index([      0,       1,       2,       3,       4,       5,       6,\n",
       "                  7,       8,       9,\n",
       "            ...\n",
       "            2322839, 2322840, 2322841, 2322842, 2322843, 2322844, 2322845,\n",
       "            2322846, 2322847, 2322848],\n",
       "           dtype='int64', length=2322849)"
      ]
     },
     "execution_count": 13,
     "metadata": {},
     "output_type": "execute_result"
    }
   ],
   "source": [
    "data.index"
   ]
  },
  {
   "cell_type": "markdown",
   "metadata": {},
   "source": [
    "Let's make our ``id`` column the ``index``"
   ]
  },
  {
   "cell_type": "code",
   "execution_count": 33,
   "metadata": {
    "collapsed": true
   },
   "outputs": [],
   "source": [
    "data = data.set_index(['id'])"
   ]
  },
  {
   "cell_type": "markdown",
   "metadata": {},
   "source": [
    "Now let's revisit the ``data.index``"
   ]
  },
  {
   "cell_type": "code",
   "execution_count": 34,
   "metadata": {
    "collapsed": false
   },
   "outputs": [
    {
     "data": {
      "text/plain": [
       "Int64Index([ 655365, 1245190,   21847,   65553,  720918, 1310744,  196637,\n",
       "             262174,  393249,      35,\n",
       "            ...\n",
       "            1703911, 1814506, 2559314, 2351086, 1712111, 2543603, 2304057,\n",
       "            2007035, 1961981, 2754558],\n",
       "           dtype='int64', name='id', length=2322849)"
      ]
     },
     "execution_count": 34,
     "metadata": {},
     "output_type": "execute_result"
    }
   ],
   "source": [
    "data.index"
   ]
  },
  {
   "cell_type": "markdown",
   "metadata": {},
   "source": [
    "View it with head again:"
   ]
  },
  {
   "cell_type": "code",
   "execution_count": 35,
   "metadata": {
    "collapsed": false
   },
   "outputs": [
    {
     "data": {
      "text/html": [
       "<div>\n",
       "<table border=\"1\" class=\"dataframe\">\n",
       "  <thead>\n",
       "    <tr style=\"text-align: right;\">\n",
       "      <th></th>\n",
       "      <th>SMILES_str</th>\n",
       "      <th>stoich_str</th>\n",
       "      <th>mass</th>\n",
       "      <th>pce</th>\n",
       "      <th>voc</th>\n",
       "      <th>jsc</th>\n",
       "      <th>e_homo_alpha</th>\n",
       "      <th>e_gap_alpha</th>\n",
       "      <th>e_lumo_alpha</th>\n",
       "      <th>tmp_smiles_str</th>\n",
       "      <th>mass_ratio_H2O</th>\n",
       "      <th>mass_group</th>\n",
       "    </tr>\n",
       "    <tr>\n",
       "      <th>id</th>\n",
       "      <th></th>\n",
       "      <th></th>\n",
       "      <th></th>\n",
       "      <th></th>\n",
       "      <th></th>\n",
       "      <th></th>\n",
       "      <th></th>\n",
       "      <th></th>\n",
       "      <th></th>\n",
       "      <th></th>\n",
       "      <th></th>\n",
       "      <th></th>\n",
       "    </tr>\n",
       "  </thead>\n",
       "  <tbody>\n",
       "    <tr>\n",
       "      <th>655365</th>\n",
       "      <td>C1C=CC=C1c1cc2[se]c3c4occc4c4nsnc4c3c2cn1</td>\n",
       "      <td>C18H9N3OSSe</td>\n",
       "      <td>394.3151</td>\n",
       "      <td>5.161953</td>\n",
       "      <td>0.867601</td>\n",
       "      <td>91.567575</td>\n",
       "      <td>-5.467601</td>\n",
       "      <td>2.022944</td>\n",
       "      <td>-3.444656</td>\n",
       "      <td>C1=CC=C(C1)c1cc2[se]c3c4occc4c4nsnc4c3c2cn1</td>\n",
       "      <td>21.887814</td>\n",
       "      <td>(375.486, 427.298]</td>\n",
       "    </tr>\n",
       "    <tr>\n",
       "      <th>1245190</th>\n",
       "      <td>C1C=CC=C1c1cc2[se]c3c(ncc4ccccc34)c2c2=C[SiH2]...</td>\n",
       "      <td>C22H15NSeSi</td>\n",
       "      <td>400.4135</td>\n",
       "      <td>5.261398</td>\n",
       "      <td>0.504824</td>\n",
       "      <td>160.401549</td>\n",
       "      <td>-5.104824</td>\n",
       "      <td>1.630750</td>\n",
       "      <td>-3.474074</td>\n",
       "      <td>C1=CC=C(C1)c1cc2[se]c3c(ncc4ccccc34)c2c2=C[SiH...</td>\n",
       "      <td>22.226327</td>\n",
       "      <td>(375.486, 427.298]</td>\n",
       "    </tr>\n",
       "    <tr>\n",
       "      <th>21847</th>\n",
       "      <td>C1C=c2ccc3c4c[nH]cc4c4c5[SiH2]C(=Cc5oc4c3c2=C1...</td>\n",
       "      <td>C24H17NOSi</td>\n",
       "      <td>363.4903</td>\n",
       "      <td>0.000000</td>\n",
       "      <td>0.000000</td>\n",
       "      <td>197.474780</td>\n",
       "      <td>-4.539526</td>\n",
       "      <td>1.462158</td>\n",
       "      <td>-3.077368</td>\n",
       "      <td>C1=CC=C(C1)C1=Cc2oc3c(c2[SiH2]1)c1c[nH]cc1c1cc...</td>\n",
       "      <td>20.176778</td>\n",
       "      <td>(323.674, 375.486]</td>\n",
       "    </tr>\n",
       "    <tr>\n",
       "      <th>65553</th>\n",
       "      <td>[SiH2]1C=CC2=C1C=C([SiH2]2)C1=Cc2[se]ccc2[SiH2]1</td>\n",
       "      <td>C12H12SeSi3</td>\n",
       "      <td>319.4448</td>\n",
       "      <td>6.138294</td>\n",
       "      <td>0.630274</td>\n",
       "      <td>149.887545</td>\n",
       "      <td>-5.230274</td>\n",
       "      <td>1.682250</td>\n",
       "      <td>-3.548025</td>\n",
       "      <td>C1=CC2=C([SiH2]1)C=C([SiH2]2)C1=Cc2[se]ccc2[Si...</td>\n",
       "      <td>17.731881</td>\n",
       "      <td>(271.862, 323.674]</td>\n",
       "    </tr>\n",
       "    <tr>\n",
       "      <th>720918</th>\n",
       "      <td>C1C=c2c3ccsc3c3[se]c4cc(oc4c3c2=C1)C1=CC=CC1</td>\n",
       "      <td>C20H12OSSe</td>\n",
       "      <td>379.3398</td>\n",
       "      <td>1.991366</td>\n",
       "      <td>0.242119</td>\n",
       "      <td>126.581347</td>\n",
       "      <td>-4.842119</td>\n",
       "      <td>1.809439</td>\n",
       "      <td>-3.032680</td>\n",
       "      <td>C1=CC=C(C1)c1cc2[se]c3c4sccc4c4=CCC=c4c3c2o1</td>\n",
       "      <td>21.056559</td>\n",
       "      <td>(375.486, 427.298]</td>\n",
       "    </tr>\n",
       "  </tbody>\n",
       "</table>\n",
       "</div>"
      ],
      "text/plain": [
       "                                                SMILES_str   stoich_str  \\\n",
       "id                                                                        \n",
       "655365           C1C=CC=C1c1cc2[se]c3c4occc4c4nsnc4c3c2cn1  C18H9N3OSSe   \n",
       "1245190  C1C=CC=C1c1cc2[se]c3c(ncc4ccccc34)c2c2=C[SiH2]...  C22H15NSeSi   \n",
       "21847    C1C=c2ccc3c4c[nH]cc4c4c5[SiH2]C(=Cc5oc4c3c2=C1...   C24H17NOSi   \n",
       "65553     [SiH2]1C=CC2=C1C=C([SiH2]2)C1=Cc2[se]ccc2[SiH2]1  C12H12SeSi3   \n",
       "720918        C1C=c2c3ccsc3c3[se]c4cc(oc4c3c2=C1)C1=CC=CC1   C20H12OSSe   \n",
       "\n",
       "             mass       pce       voc         jsc  e_homo_alpha  e_gap_alpha  \\\n",
       "id                                                                             \n",
       "655365   394.3151  5.161953  0.867601   91.567575     -5.467601     2.022944   \n",
       "1245190  400.4135  5.261398  0.504824  160.401549     -5.104824     1.630750   \n",
       "21847    363.4903  0.000000  0.000000  197.474780     -4.539526     1.462158   \n",
       "65553    319.4448  6.138294  0.630274  149.887545     -5.230274     1.682250   \n",
       "720918   379.3398  1.991366  0.242119  126.581347     -4.842119     1.809439   \n",
       "\n",
       "         e_lumo_alpha                                     tmp_smiles_str  \\\n",
       "id                                                                         \n",
       "655365      -3.444656        C1=CC=C(C1)c1cc2[se]c3c4occc4c4nsnc4c3c2cn1   \n",
       "1245190     -3.474074  C1=CC=C(C1)c1cc2[se]c3c(ncc4ccccc34)c2c2=C[SiH...   \n",
       "21847       -3.077368  C1=CC=C(C1)C1=Cc2oc3c(c2[SiH2]1)c1c[nH]cc1c1cc...   \n",
       "65553       -3.548025  C1=CC2=C([SiH2]1)C=C([SiH2]2)C1=Cc2[se]ccc2[Si...   \n",
       "720918      -3.032680       C1=CC=C(C1)c1cc2[se]c3c4sccc4c4=CCC=c4c3c2o1   \n",
       "\n",
       "         mass_ratio_H2O          mass_group  \n",
       "id                                           \n",
       "655365        21.887814  (375.486, 427.298]  \n",
       "1245190       22.226327  (375.486, 427.298]  \n",
       "21847         20.176778  (323.674, 375.486]  \n",
       "65553         17.731881  (271.862, 323.674]  \n",
       "720918        21.056559  (375.486, 427.298]  "
      ]
     },
     "execution_count": 35,
     "metadata": {},
     "output_type": "execute_result"
    }
   ],
   "source": [
    "data.head()"
   ]
  },
  {
   "cell_type": "code",
   "execution_count": null,
   "metadata": {
    "collapsed": true
   },
   "outputs": [],
   "source": []
  },
  {
   "cell_type": "markdown",
   "metadata": {},
   "source": [
    "The ``dtypes`` attribute gives the data types of each column:"
   ]
  },
  {
   "cell_type": "code",
   "execution_count": 14,
   "metadata": {
    "collapsed": false
   },
   "outputs": [
    {
     "data": {
      "text/plain": [
       "id                  int64\n",
       "SMILES_str         object\n",
       "stoich_str         object\n",
       "mass              float64\n",
       "pce               float64\n",
       "voc               float64\n",
       "jsc               float64\n",
       "e_homo_alpha      float64\n",
       "e_gap_alpha       float64\n",
       "e_lumo_alpha      float64\n",
       "tmp_smiles_str     object\n",
       "dtype: object"
      ]
     },
     "execution_count": 14,
     "metadata": {},
     "output_type": "execute_result"
    }
   ],
   "source": [
    "data.dtypes"
   ]
  },
  {
   "cell_type": "markdown",
   "metadata": {},
   "source": [
    "## 4. Manipulating data with ``pandas``\n",
    "\n",
    "Here we'll cover some key features of manipulating data with pandas"
   ]
  },
  {
   "cell_type": "markdown",
   "metadata": {},
   "source": [
    "Access columns by name using square-bracket indexing:"
   ]
  },
  {
   "cell_type": "code",
   "execution_count": 15,
   "metadata": {
    "collapsed": false
   },
   "outputs": [
    {
     "data": {
      "text/plain": [
       "0           655365\n",
       "1          1245190\n",
       "2            21847\n",
       "3            65553\n",
       "4           720918\n",
       "5          1310744\n",
       "6           196637\n",
       "7           262174\n",
       "8           393249\n",
       "9               35\n",
       "10         1048612\n",
       "11          917542\n",
       "12         1441831\n",
       "13         1376296\n",
       "14         1638442\n",
       "15           98350\n",
       "16         2162747\n",
       "17          557119\n",
       "18          753728\n",
       "19          819265\n",
       "20         1278019\n",
       "21         2096063\n",
       "22         2752585\n",
       "23         1572945\n",
       "24         2359381\n",
       "25         1540183\n",
       "26         1638500\n",
       "27         2621542\n",
       "28           98411\n",
       "29          524398\n",
       "            ...   \n",
       "2322819    2705444\n",
       "2322820    2925216\n",
       "2322821    2742210\n",
       "2322822    3092419\n",
       "2322823    1253317\n",
       "2322824    1841096\n",
       "2322825    2770889\n",
       "2322826    1816522\n",
       "2322827    1810382\n",
       "2322828    1648591\n",
       "2322829    2705360\n",
       "2322830    2349009\n",
       "2322831    3091107\n",
       "2322832       8152\n",
       "2322833    1781722\n",
       "2322834    2470223\n",
       "2322835    2469856\n",
       "2322836    1912803\n",
       "2322837    1216485\n",
       "2322838    2619366\n",
       "2322839    1703911\n",
       "2322840    1814506\n",
       "2322841    2559314\n",
       "2322842    2351086\n",
       "2322843    1712111\n",
       "2322844    2543603\n",
       "2322845    2304057\n",
       "2322846    2007035\n",
       "2322847    1961981\n",
       "2322848    2754558\n",
       "Name: id, dtype: int64"
      ]
     },
     "execution_count": 15,
     "metadata": {},
     "output_type": "execute_result"
    }
   ],
   "source": [
    "data[\"id\"]"
   ]
  },
  {
   "cell_type": "markdown",
   "metadata": {},
   "source": [
    "Mathematical operations on columns happen *element-wise* (note 18.01528 is the weight of H2O):"
   ]
  },
  {
   "cell_type": "code",
   "execution_count": 19,
   "metadata": {
    "collapsed": false
   },
   "outputs": [
    {
     "data": {
      "text/plain": [
       "0          21.887814\n",
       "1          22.226327\n",
       "2          20.176778\n",
       "3          17.731881\n",
       "4          21.056559\n",
       "5          25.223793\n",
       "6          22.439396\n",
       "7          24.660899\n",
       "8          22.000740\n",
       "9          16.232487\n",
       "10         16.123013\n",
       "11         27.154438\n",
       "12         18.610135\n",
       "13         24.618124\n",
       "14         21.845039\n",
       "15         18.901755\n",
       "16         23.847817\n",
       "17         14.338861\n",
       "18         18.676834\n",
       "19         25.510422\n",
       "20         21.906526\n",
       "21         28.282303\n",
       "22         22.900893\n",
       "23         21.613797\n",
       "24         24.120724\n",
       "25         25.272985\n",
       "26         21.388655\n",
       "27         20.453582\n",
       "28         22.335356\n",
       "29         21.845039\n",
       "             ...    \n",
       "2322819    26.854220\n",
       "2322820    28.907283\n",
       "2322821    28.907283\n",
       "2322822    26.963916\n",
       "2322823    23.740863\n",
       "2322824    25.962366\n",
       "2322825    25.961922\n",
       "2322826    26.241690\n",
       "2322827    25.962366\n",
       "2322828    28.015429\n",
       "2322829    27.960803\n",
       "2322830    26.187509\n",
       "2322831    29.690108\n",
       "2322832    28.224985\n",
       "2322833    26.242356\n",
       "2322834    29.744511\n",
       "2322835    27.851330\n",
       "2322836    28.015429\n",
       "2322837    22.685010\n",
       "2322838    24.905747\n",
       "2322839    25.852893\n",
       "2322840    26.242356\n",
       "2322841    26.296982\n",
       "2322842    26.909068\n",
       "2322843    29.799137\n",
       "2322844    27.018764\n",
       "2322845    27.018764\n",
       "2322846    26.799373\n",
       "2322847    28.844703\n",
       "2322848    28.852657\n",
       "Name: mass, dtype: float64"
      ]
     },
     "execution_count": 19,
     "metadata": {},
     "output_type": "execute_result"
    }
   ],
   "source": [
    "data['mass'] / 18.01528"
   ]
  },
  {
   "cell_type": "markdown",
   "metadata": {},
   "source": [
    "Columns can be created (or overwritten) with the assignment operator.\n",
    "Let's create a *mass_ratio_H2O* column with the mass ratio of each molecule to H2O"
   ]
  },
  {
   "cell_type": "code",
   "execution_count": 20,
   "metadata": {
    "collapsed": false
   },
   "outputs": [],
   "source": [
    "data['mass_ratio_H2O'] = data['mass'] / 18.01528"
   ]
  },
  {
   "cell_type": "code",
   "execution_count": 21,
   "metadata": {
    "collapsed": false
   },
   "outputs": [
    {
     "data": {
      "text/html": [
       "<div>\n",
       "<table border=\"1\" class=\"dataframe\">\n",
       "  <thead>\n",
       "    <tr style=\"text-align: right;\">\n",
       "      <th></th>\n",
       "      <th>id</th>\n",
       "      <th>SMILES_str</th>\n",
       "      <th>stoich_str</th>\n",
       "      <th>mass</th>\n",
       "      <th>pce</th>\n",
       "      <th>voc</th>\n",
       "      <th>jsc</th>\n",
       "      <th>e_homo_alpha</th>\n",
       "      <th>e_gap_alpha</th>\n",
       "      <th>e_lumo_alpha</th>\n",
       "      <th>tmp_smiles_str</th>\n",
       "      <th>mass_ratio_H2O</th>\n",
       "    </tr>\n",
       "  </thead>\n",
       "  <tbody>\n",
       "    <tr>\n",
       "      <th>0</th>\n",
       "      <td>655365</td>\n",
       "      <td>C1C=CC=C1c1cc2[se]c3c4occc4c4nsnc4c3c2cn1</td>\n",
       "      <td>C18H9N3OSSe</td>\n",
       "      <td>394.3151</td>\n",
       "      <td>5.161953</td>\n",
       "      <td>0.867601</td>\n",
       "      <td>91.567575</td>\n",
       "      <td>-5.467601</td>\n",
       "      <td>2.022944</td>\n",
       "      <td>-3.444656</td>\n",
       "      <td>C1=CC=C(C1)c1cc2[se]c3c4occc4c4nsnc4c3c2cn1</td>\n",
       "      <td>21.887814</td>\n",
       "    </tr>\n",
       "    <tr>\n",
       "      <th>1</th>\n",
       "      <td>1245190</td>\n",
       "      <td>C1C=CC=C1c1cc2[se]c3c(ncc4ccccc34)c2c2=C[SiH2]...</td>\n",
       "      <td>C22H15NSeSi</td>\n",
       "      <td>400.4135</td>\n",
       "      <td>5.261398</td>\n",
       "      <td>0.504824</td>\n",
       "      <td>160.401549</td>\n",
       "      <td>-5.104824</td>\n",
       "      <td>1.630750</td>\n",
       "      <td>-3.474074</td>\n",
       "      <td>C1=CC=C(C1)c1cc2[se]c3c(ncc4ccccc34)c2c2=C[SiH...</td>\n",
       "      <td>22.226327</td>\n",
       "    </tr>\n",
       "    <tr>\n",
       "      <th>2</th>\n",
       "      <td>21847</td>\n",
       "      <td>C1C=c2ccc3c4c[nH]cc4c4c5[SiH2]C(=Cc5oc4c3c2=C1...</td>\n",
       "      <td>C24H17NOSi</td>\n",
       "      <td>363.4903</td>\n",
       "      <td>0.000000</td>\n",
       "      <td>0.000000</td>\n",
       "      <td>197.474780</td>\n",
       "      <td>-4.539526</td>\n",
       "      <td>1.462158</td>\n",
       "      <td>-3.077368</td>\n",
       "      <td>C1=CC=C(C1)C1=Cc2oc3c(c2[SiH2]1)c1c[nH]cc1c1cc...</td>\n",
       "      <td>20.176778</td>\n",
       "    </tr>\n",
       "    <tr>\n",
       "      <th>3</th>\n",
       "      <td>65553</td>\n",
       "      <td>[SiH2]1C=CC2=C1C=C([SiH2]2)C1=Cc2[se]ccc2[SiH2]1</td>\n",
       "      <td>C12H12SeSi3</td>\n",
       "      <td>319.4448</td>\n",
       "      <td>6.138294</td>\n",
       "      <td>0.630274</td>\n",
       "      <td>149.887545</td>\n",
       "      <td>-5.230274</td>\n",
       "      <td>1.682250</td>\n",
       "      <td>-3.548025</td>\n",
       "      <td>C1=CC2=C([SiH2]1)C=C([SiH2]2)C1=Cc2[se]ccc2[Si...</td>\n",
       "      <td>17.731881</td>\n",
       "    </tr>\n",
       "    <tr>\n",
       "      <th>4</th>\n",
       "      <td>720918</td>\n",
       "      <td>C1C=c2c3ccsc3c3[se]c4cc(oc4c3c2=C1)C1=CC=CC1</td>\n",
       "      <td>C20H12OSSe</td>\n",
       "      <td>379.3398</td>\n",
       "      <td>1.991366</td>\n",
       "      <td>0.242119</td>\n",
       "      <td>126.581347</td>\n",
       "      <td>-4.842119</td>\n",
       "      <td>1.809439</td>\n",
       "      <td>-3.032680</td>\n",
       "      <td>C1=CC=C(C1)c1cc2[se]c3c4sccc4c4=CCC=c4c3c2o1</td>\n",
       "      <td>21.056559</td>\n",
       "    </tr>\n",
       "  </tbody>\n",
       "</table>\n",
       "</div>"
      ],
      "text/plain": [
       "        id                                         SMILES_str   stoich_str  \\\n",
       "0   655365          C1C=CC=C1c1cc2[se]c3c4occc4c4nsnc4c3c2cn1  C18H9N3OSSe   \n",
       "1  1245190  C1C=CC=C1c1cc2[se]c3c(ncc4ccccc34)c2c2=C[SiH2]...  C22H15NSeSi   \n",
       "2    21847  C1C=c2ccc3c4c[nH]cc4c4c5[SiH2]C(=Cc5oc4c3c2=C1...   C24H17NOSi   \n",
       "3    65553   [SiH2]1C=CC2=C1C=C([SiH2]2)C1=Cc2[se]ccc2[SiH2]1  C12H12SeSi3   \n",
       "4   720918       C1C=c2c3ccsc3c3[se]c4cc(oc4c3c2=C1)C1=CC=CC1   C20H12OSSe   \n",
       "\n",
       "       mass       pce       voc         jsc  e_homo_alpha  e_gap_alpha  \\\n",
       "0  394.3151  5.161953  0.867601   91.567575     -5.467601     2.022944   \n",
       "1  400.4135  5.261398  0.504824  160.401549     -5.104824     1.630750   \n",
       "2  363.4903  0.000000  0.000000  197.474780     -4.539526     1.462158   \n",
       "3  319.4448  6.138294  0.630274  149.887545     -5.230274     1.682250   \n",
       "4  379.3398  1.991366  0.242119  126.581347     -4.842119     1.809439   \n",
       "\n",
       "   e_lumo_alpha                                     tmp_smiles_str  \\\n",
       "0     -3.444656        C1=CC=C(C1)c1cc2[se]c3c4occc4c4nsnc4c3c2cn1   \n",
       "1     -3.474074  C1=CC=C(C1)c1cc2[se]c3c(ncc4ccccc34)c2c2=C[SiH...   \n",
       "2     -3.077368  C1=CC=C(C1)C1=Cc2oc3c(c2[SiH2]1)c1c[nH]cc1c1cc...   \n",
       "3     -3.548025  C1=CC2=C([SiH2]1)C=C([SiH2]2)C1=Cc2[se]ccc2[Si...   \n",
       "4     -3.032680       C1=CC=C(C1)c1cc2[se]c3c4sccc4c4=CCC=c4c3c2o1   \n",
       "\n",
       "   mass_ratio_H2O  \n",
       "0       21.887814  \n",
       "1       22.226327  \n",
       "2       20.176778  \n",
       "3       17.731881  \n",
       "4       21.056559  "
      ]
     },
     "execution_count": 21,
     "metadata": {},
     "output_type": "execute_result"
    }
   ],
   "source": [
    "data.head()"
   ]
  },
  {
   "cell_type": "markdown",
   "metadata": {},
   "source": [
    "In preparation for grouping the data, let's bin the molecules by their molecular mass. For that, we'll use ``pd.cut``"
   ]
  },
  {
   "cell_type": "code",
   "execution_count": 25,
   "metadata": {
    "collapsed": false
   },
   "outputs": [],
   "source": [
    "data['mass_group'] = pd.cut(data['mass'], 10)"
   ]
  },
  {
   "cell_type": "code",
   "execution_count": 26,
   "metadata": {
    "collapsed": false
   },
   "outputs": [
    {
     "data": {
      "text/html": [
       "<div>\n",
       "<table border=\"1\" class=\"dataframe\">\n",
       "  <thead>\n",
       "    <tr style=\"text-align: right;\">\n",
       "      <th></th>\n",
       "      <th>id</th>\n",
       "      <th>SMILES_str</th>\n",
       "      <th>stoich_str</th>\n",
       "      <th>mass</th>\n",
       "      <th>pce</th>\n",
       "      <th>voc</th>\n",
       "      <th>jsc</th>\n",
       "      <th>e_homo_alpha</th>\n",
       "      <th>e_gap_alpha</th>\n",
       "      <th>e_lumo_alpha</th>\n",
       "      <th>tmp_smiles_str</th>\n",
       "      <th>mass_ratio_H2O</th>\n",
       "      <th>mass_group</th>\n",
       "    </tr>\n",
       "  </thead>\n",
       "  <tbody>\n",
       "    <tr>\n",
       "      <th>0</th>\n",
       "      <td>655365</td>\n",
       "      <td>C1C=CC=C1c1cc2[se]c3c4occc4c4nsnc4c3c2cn1</td>\n",
       "      <td>C18H9N3OSSe</td>\n",
       "      <td>394.3151</td>\n",
       "      <td>5.161953</td>\n",
       "      <td>0.867601</td>\n",
       "      <td>91.567575</td>\n",
       "      <td>-5.467601</td>\n",
       "      <td>2.022944</td>\n",
       "      <td>-3.444656</td>\n",
       "      <td>C1=CC=C(C1)c1cc2[se]c3c4occc4c4nsnc4c3c2cn1</td>\n",
       "      <td>21.887814</td>\n",
       "      <td>(375.486, 427.298]</td>\n",
       "    </tr>\n",
       "    <tr>\n",
       "      <th>1</th>\n",
       "      <td>1245190</td>\n",
       "      <td>C1C=CC=C1c1cc2[se]c3c(ncc4ccccc34)c2c2=C[SiH2]...</td>\n",
       "      <td>C22H15NSeSi</td>\n",
       "      <td>400.4135</td>\n",
       "      <td>5.261398</td>\n",
       "      <td>0.504824</td>\n",
       "      <td>160.401549</td>\n",
       "      <td>-5.104824</td>\n",
       "      <td>1.630750</td>\n",
       "      <td>-3.474074</td>\n",
       "      <td>C1=CC=C(C1)c1cc2[se]c3c(ncc4ccccc34)c2c2=C[SiH...</td>\n",
       "      <td>22.226327</td>\n",
       "      <td>(375.486, 427.298]</td>\n",
       "    </tr>\n",
       "    <tr>\n",
       "      <th>2</th>\n",
       "      <td>21847</td>\n",
       "      <td>C1C=c2ccc3c4c[nH]cc4c4c5[SiH2]C(=Cc5oc4c3c2=C1...</td>\n",
       "      <td>C24H17NOSi</td>\n",
       "      <td>363.4903</td>\n",
       "      <td>0.000000</td>\n",
       "      <td>0.000000</td>\n",
       "      <td>197.474780</td>\n",
       "      <td>-4.539526</td>\n",
       "      <td>1.462158</td>\n",
       "      <td>-3.077368</td>\n",
       "      <td>C1=CC=C(C1)C1=Cc2oc3c(c2[SiH2]1)c1c[nH]cc1c1cc...</td>\n",
       "      <td>20.176778</td>\n",
       "      <td>(323.674, 375.486]</td>\n",
       "    </tr>\n",
       "    <tr>\n",
       "      <th>3</th>\n",
       "      <td>65553</td>\n",
       "      <td>[SiH2]1C=CC2=C1C=C([SiH2]2)C1=Cc2[se]ccc2[SiH2]1</td>\n",
       "      <td>C12H12SeSi3</td>\n",
       "      <td>319.4448</td>\n",
       "      <td>6.138294</td>\n",
       "      <td>0.630274</td>\n",
       "      <td>149.887545</td>\n",
       "      <td>-5.230274</td>\n",
       "      <td>1.682250</td>\n",
       "      <td>-3.548025</td>\n",
       "      <td>C1=CC2=C([SiH2]1)C=C([SiH2]2)C1=Cc2[se]ccc2[Si...</td>\n",
       "      <td>17.731881</td>\n",
       "      <td>(271.862, 323.674]</td>\n",
       "    </tr>\n",
       "    <tr>\n",
       "      <th>4</th>\n",
       "      <td>720918</td>\n",
       "      <td>C1C=c2c3ccsc3c3[se]c4cc(oc4c3c2=C1)C1=CC=CC1</td>\n",
       "      <td>C20H12OSSe</td>\n",
       "      <td>379.3398</td>\n",
       "      <td>1.991366</td>\n",
       "      <td>0.242119</td>\n",
       "      <td>126.581347</td>\n",
       "      <td>-4.842119</td>\n",
       "      <td>1.809439</td>\n",
       "      <td>-3.032680</td>\n",
       "      <td>C1=CC=C(C1)c1cc2[se]c3c4sccc4c4=CCC=c4c3c2o1</td>\n",
       "      <td>21.056559</td>\n",
       "      <td>(375.486, 427.298]</td>\n",
       "    </tr>\n",
       "  </tbody>\n",
       "</table>\n",
       "</div>"
      ],
      "text/plain": [
       "        id                                         SMILES_str   stoich_str  \\\n",
       "0   655365          C1C=CC=C1c1cc2[se]c3c4occc4c4nsnc4c3c2cn1  C18H9N3OSSe   \n",
       "1  1245190  C1C=CC=C1c1cc2[se]c3c(ncc4ccccc34)c2c2=C[SiH2]...  C22H15NSeSi   \n",
       "2    21847  C1C=c2ccc3c4c[nH]cc4c4c5[SiH2]C(=Cc5oc4c3c2=C1...   C24H17NOSi   \n",
       "3    65553   [SiH2]1C=CC2=C1C=C([SiH2]2)C1=Cc2[se]ccc2[SiH2]1  C12H12SeSi3   \n",
       "4   720918       C1C=c2c3ccsc3c3[se]c4cc(oc4c3c2=C1)C1=CC=CC1   C20H12OSSe   \n",
       "\n",
       "       mass       pce       voc         jsc  e_homo_alpha  e_gap_alpha  \\\n",
       "0  394.3151  5.161953  0.867601   91.567575     -5.467601     2.022944   \n",
       "1  400.4135  5.261398  0.504824  160.401549     -5.104824     1.630750   \n",
       "2  363.4903  0.000000  0.000000  197.474780     -4.539526     1.462158   \n",
       "3  319.4448  6.138294  0.630274  149.887545     -5.230274     1.682250   \n",
       "4  379.3398  1.991366  0.242119  126.581347     -4.842119     1.809439   \n",
       "\n",
       "   e_lumo_alpha                                     tmp_smiles_str  \\\n",
       "0     -3.444656        C1=CC=C(C1)c1cc2[se]c3c4occc4c4nsnc4c3c2cn1   \n",
       "1     -3.474074  C1=CC=C(C1)c1cc2[se]c3c(ncc4ccccc34)c2c2=C[SiH...   \n",
       "2     -3.077368  C1=CC=C(C1)C1=Cc2oc3c(c2[SiH2]1)c1c[nH]cc1c1cc...   \n",
       "3     -3.548025  C1=CC2=C([SiH2]1)C=C([SiH2]2)C1=Cc2[se]ccc2[Si...   \n",
       "4     -3.032680       C1=CC=C(C1)c1cc2[se]c3c4sccc4c4=CCC=c4c3c2o1   \n",
       "\n",
       "   mass_ratio_H2O          mass_group  \n",
       "0       21.887814  (375.486, 427.298]  \n",
       "1       22.226327  (375.486, 427.298]  \n",
       "2       20.176778  (323.674, 375.486]  \n",
       "3       17.731881  (271.862, 323.674]  \n",
       "4       21.056559  (375.486, 427.298]  "
      ]
     },
     "execution_count": 26,
     "metadata": {},
     "output_type": "execute_result"
    }
   ],
   "source": [
    "data.head()"
   ]
  },
  {
   "cell_type": "code",
   "execution_count": 28,
   "metadata": {
    "collapsed": false
   },
   "outputs": [
    {
     "data": {
      "text/plain": [
       "id                   int64\n",
       "SMILES_str          object\n",
       "stoich_str          object\n",
       "mass               float64\n",
       "pce                float64\n",
       "voc                float64\n",
       "jsc                float64\n",
       "e_homo_alpha       float64\n",
       "e_gap_alpha        float64\n",
       "e_lumo_alpha       float64\n",
       "tmp_smiles_str      object\n",
       "mass_ratio_H2O     float64\n",
       "mass_group        category\n",
       "dtype: object"
      ]
     },
     "execution_count": 28,
     "metadata": {},
     "output_type": "execute_result"
    }
   ],
   "source": [
    "data.dtypes"
   ]
  },
  {
   "cell_type": "markdown",
   "metadata": {},
   "source": [
    "### Simple Grouping of Data\n",
    "\n",
    "The real power of Pandas comes in its tools for grouping and aggregating data. Here we'll look at *value counts* and the basics of *group-by* operations."
   ]
  },
  {
   "cell_type": "markdown",
   "metadata": {},
   "source": [
    "#### Value Counts"
   ]
  },
  {
   "cell_type": "markdown",
   "metadata": {},
   "source": [
    "Pandas includes an array of useful functionality for manipulating and analyzing tabular data.\n",
    "We'll take a look at two of these here."
   ]
  },
  {
   "cell_type": "markdown",
   "metadata": {},
   "source": [
    "The ``pandas.value_counts`` returns statistics on the unique values within each column.\n",
    "\n",
    "We can use it, for example, to break down the molecules by their mass group that we just created:"
   ]
  },
  {
   "cell_type": "code",
   "execution_count": 29,
   "metadata": {
    "collapsed": false
   },
   "outputs": [
    {
     "data": {
      "text/plain": [
       "(375.486, 427.298]     749908\n",
       "(427.298, 479.111]     729369\n",
       "(323.674, 375.486]     395811\n",
       "(479.111, 530.923]     247833\n",
       "(271.862, 323.674]     132159\n",
       "(530.923, 582.735]      41111\n",
       "(220.0499, 271.862]     21253\n",
       "(582.735, 634.547]       4176\n",
       "(167.72, 220.0499]        937\n",
       "(634.547, 686.359]        292\n",
       "dtype: int64"
      ]
     },
     "execution_count": 29,
     "metadata": {},
     "output_type": "execute_result"
    }
   ],
   "source": [
    "pd.value_counts(data['mass_group'])"
   ]
  },
  {
   "cell_type": "markdown",
   "metadata": {},
   "source": [
    "What happens if we try this on a continuous valued variable?"
   ]
  },
  {
   "cell_type": "code",
   "execution_count": 30,
   "metadata": {
    "collapsed": false
   },
   "outputs": [
    {
     "data": {
      "text/plain": [
       "390.4646    4420\n",
       "378.4536    4214\n",
       "393.5405    3844\n",
       "396.4928    3834\n",
       "404.5674    3750\n",
       "389.4805    3732\n",
       "443.6003    3670\n",
       "428.5134    3643\n",
       "388.4924    3628\n",
       "391.4527    3600\n",
       "394.5286    3590\n",
       "392.5564    3493\n",
       "407.5197    3441\n",
       "389.4765    3428\n",
       "447.5407    3402\n",
       "395.5047    3338\n",
       "340.4048    3324\n",
       "379.4417    3293\n",
       "394.5206    3274\n",
       "446.5526    3270\n",
       "406.5316    3250\n",
       "408.5078    3236\n",
       "442.6162    3227\n",
       "397.4809    3212\n",
       "395.5087    3202\n",
       "445.5685    3137\n",
       "410.5956    3102\n",
       "444.5884    3102\n",
       "445.5645    3024\n",
       "405.5555    2996\n",
       "            ... \n",
       "369.3210       1\n",
       "276.4014       1\n",
       "262.3146       1\n",
       "296.5048       1\n",
       "322.6622       1\n",
       "431.6111       1\n",
       "239.3203       1\n",
       "404.2939       1\n",
       "416.5184       1\n",
       "416.0615       1\n",
       "388.3768       1\n",
       "392.3768       1\n",
       "431.4875       1\n",
       "419.3808       1\n",
       "305.3759       1\n",
       "290.4402       1\n",
       "254.1964       1\n",
       "424.8300       1\n",
       "266.2510       1\n",
       "391.3927       1\n",
       "263.2631       1\n",
       "290.2890       1\n",
       "254.3080       1\n",
       "237.2649       1\n",
       "223.2737       1\n",
       "422.4268       1\n",
       "291.2731       1\n",
       "390.4086       1\n",
       "423.7303       1\n",
       "185.1893       1\n",
       "Name: mass, dtype: int64"
      ]
     },
     "execution_count": 30,
     "metadata": {},
     "output_type": "execute_result"
    }
   ],
   "source": [
    "pd.value_counts(data['mass'])"
   ]
  },
  {
   "cell_type": "markdown",
   "metadata": {},
   "source": [
    "We can do a little data exploration with this to look 0s in columns.  Here, let's look at the power conversion effeciency (``pce``)"
   ]
  },
  {
   "cell_type": "code",
   "execution_count": 32,
   "metadata": {
    "collapsed": false
   },
   "outputs": [
    {
     "data": {
      "text/plain": [
       "0.000000     109854\n",
       "1.334476          6\n",
       "1.808540          4\n",
       "3.488029          4\n",
       "0.709349          4\n",
       "2.459403          4\n",
       "1.052418          4\n",
       "2.387416          4\n",
       "1.366590          4\n",
       "1.117082          4\n",
       "5.084377          4\n",
       "0.694609          4\n",
       "1.613642          4\n",
       "0.917689          4\n",
       "0.587105          4\n",
       "0.578955          4\n",
       "0.661946          4\n",
       "2.199972          4\n",
       "0.844614          4\n",
       "0.544192          4\n",
       "1.512309          4\n",
       "4.321271          4\n",
       "1.481181          4\n",
       "1.546349          4\n",
       "3.655793          4\n",
       "0.864447          4\n",
       "1.170383          4\n",
       "0.763609          4\n",
       "3.551652          4\n",
       "1.403955          4\n",
       "              ...  \n",
       "1.333632          1\n",
       "3.442184          1\n",
       "2.736770          1\n",
       "0.713257          1\n",
       "10.146543         1\n",
       "3.677383          1\n",
       "6.557611          1\n",
       "5.612742          1\n",
       "4.659512          1\n",
       "4.305537          1\n",
       "7.095635          1\n",
       "7.354503          1\n",
       "1.458210          1\n",
       "2.568991          1\n",
       "3.731729          1\n",
       "2.845341          1\n",
       "3.759061          1\n",
       "6.189524          1\n",
       "3.474823          1\n",
       "0.845934          1\n",
       "0.647441          1\n",
       "4.938189          1\n",
       "5.071971          1\n",
       "7.005179          1\n",
       "2.751517          1\n",
       "1.237768          1\n",
       "6.454286          1\n",
       "8.356718          1\n",
       "5.320245          1\n",
       "1.996295          1\n",
       "Name: pce, dtype: int64"
      ]
     },
     "execution_count": 32,
     "metadata": {},
     "output_type": "execute_result"
    }
   ],
   "source": [
    "pd.value_counts(data['pce'])"
   ]
  },
  {
   "cell_type": "markdown",
   "metadata": {},
   "source": [
    "### Group-by Operation\n",
    "\n",
    "One of the killer features of the Pandas dataframe is the ability to do group-by operations.\n",
    "You can visualize the group-by like this (image borrowed from the [Python Data Science Handbook](http://shop.oreilly.com/product/0636920034919.do))"
   ]
  },
  {
   "cell_type": "code",
   "execution_count": 32,
   "metadata": {
    "collapsed": false
   },
   "outputs": [
    {
     "data": {
      "image/png": "[encoded data removed]",
      "text/plain": [
       "<IPython.core.display.Image object>"
      ]
     },
     "execution_count": 32,
     "metadata": {},
     "output_type": "execute_result"
    }
   ],
   "source": [
    "from Jupyter.display import Image\n",
    "Image('split_apply_combine.png')"
   ]
  },
  {
   "cell_type": "markdown",
   "metadata": {},
   "source": [
    "Let's break take this in smaller steps.\n",
    "Recall our ``mass_group`` column."
   ]
  },
  {
   "cell_type": "code",
   "execution_count": 37,
   "metadata": {
    "collapsed": false
   },
   "outputs": [
    {
     "data": {
      "text/plain": [
       "(375.486, 427.298]     749908\n",
       "(427.298, 479.111]     729369\n",
       "(323.674, 375.486]     395811\n",
       "(479.111, 530.923]     247833\n",
       "(271.862, 323.674]     132159\n",
       "(530.923, 582.735]      41111\n",
       "(220.0499, 271.862]     21253\n",
       "(582.735, 634.547]       4176\n",
       "(167.72, 220.0499]        937\n",
       "(634.547, 686.359]        292\n",
       "dtype: int64"
      ]
     },
     "execution_count": 37,
     "metadata": {},
     "output_type": "execute_result"
    }
   ],
   "source": [
    "pd.value_counts(data['mass_group'])"
   ]
  },
  {
   "cell_type": "markdown",
   "metadata": {},
   "source": [
    "groupby allows us to look at the number of values for each column and each value."
   ]
  },
  {
   "cell_type": "code",
   "execution_count": 40,
   "metadata": {
    "collapsed": false
   },
   "outputs": [
    {
     "data": {
      "text/html": [
       "<div>\n",
       "<table border=\"1\" class=\"dataframe\">\n",
       "  <thead>\n",
       "    <tr style=\"text-align: right;\">\n",
       "      <th></th>\n",
       "      <th>SMILES_str</th>\n",
       "      <th>stoich_str</th>\n",
       "      <th>mass</th>\n",
       "      <th>pce</th>\n",
       "      <th>voc</th>\n",
       "      <th>jsc</th>\n",
       "      <th>e_homo_alpha</th>\n",
       "      <th>e_gap_alpha</th>\n",
       "      <th>e_lumo_alpha</th>\n",
       "      <th>tmp_smiles_str</th>\n",
       "      <th>mass_ratio_H2O</th>\n",
       "    </tr>\n",
       "    <tr>\n",
       "      <th>mass_group</th>\n",
       "      <th></th>\n",
       "      <th></th>\n",
       "      <th></th>\n",
       "      <th></th>\n",
       "      <th></th>\n",
       "      <th></th>\n",
       "      <th></th>\n",
       "      <th></th>\n",
       "      <th></th>\n",
       "      <th></th>\n",
       "      <th></th>\n",
       "    </tr>\n",
       "  </thead>\n",
       "  <tbody>\n",
       "    <tr>\n",
       "      <th>(167.72, 220.0499]</th>\n",
       "      <td>937</td>\n",
       "      <td>937</td>\n",
       "      <td>937</td>\n",
       "      <td>937</td>\n",
       "      <td>937</td>\n",
       "      <td>937</td>\n",
       "      <td>937</td>\n",
       "      <td>937</td>\n",
       "      <td>937</td>\n",
       "      <td>844</td>\n",
       "      <td>937</td>\n",
       "    </tr>\n",
       "    <tr>\n",
       "      <th>(220.0499, 271.862]</th>\n",
       "      <td>21253</td>\n",
       "      <td>21253</td>\n",
       "      <td>21253</td>\n",
       "      <td>21253</td>\n",
       "      <td>21253</td>\n",
       "      <td>21253</td>\n",
       "      <td>21253</td>\n",
       "      <td>21253</td>\n",
       "      <td>21253</td>\n",
       "      <td>20080</td>\n",
       "      <td>21253</td>\n",
       "    </tr>\n",
       "    <tr>\n",
       "      <th>(271.862, 323.674]</th>\n",
       "      <td>132159</td>\n",
       "      <td>132159</td>\n",
       "      <td>132159</td>\n",
       "      <td>132159</td>\n",
       "      <td>132159</td>\n",
       "      <td>132159</td>\n",
       "      <td>132159</td>\n",
       "      <td>132159</td>\n",
       "      <td>132159</td>\n",
       "      <td>124329</td>\n",
       "      <td>132159</td>\n",
       "    </tr>\n",
       "    <tr>\n",
       "      <th>(323.674, 375.486]</th>\n",
       "      <td>395811</td>\n",
       "      <td>395811</td>\n",
       "      <td>395811</td>\n",
       "      <td>395811</td>\n",
       "      <td>395811</td>\n",
       "      <td>395811</td>\n",
       "      <td>395811</td>\n",
       "      <td>395811</td>\n",
       "      <td>395811</td>\n",
       "      <td>373490</td>\n",
       "      <td>395811</td>\n",
       "    </tr>\n",
       "    <tr>\n",
       "      <th>(375.486, 427.298]</th>\n",
       "      <td>749908</td>\n",
       "      <td>749908</td>\n",
       "      <td>749908</td>\n",
       "      <td>749908</td>\n",
       "      <td>749908</td>\n",
       "      <td>749908</td>\n",
       "      <td>749908</td>\n",
       "      <td>749908</td>\n",
       "      <td>749908</td>\n",
       "      <td>715158</td>\n",
       "      <td>749908</td>\n",
       "    </tr>\n",
       "    <tr>\n",
       "      <th>(427.298, 479.111]</th>\n",
       "      <td>729369</td>\n",
       "      <td>729369</td>\n",
       "      <td>729369</td>\n",
       "      <td>729369</td>\n",
       "      <td>729369</td>\n",
       "      <td>729369</td>\n",
       "      <td>729369</td>\n",
       "      <td>729369</td>\n",
       "      <td>729369</td>\n",
       "      <td>699620</td>\n",
       "      <td>729369</td>\n",
       "    </tr>\n",
       "    <tr>\n",
       "      <th>(479.111, 530.923]</th>\n",
       "      <td>247833</td>\n",
       "      <td>247833</td>\n",
       "      <td>247833</td>\n",
       "      <td>247833</td>\n",
       "      <td>247833</td>\n",
       "      <td>247833</td>\n",
       "      <td>247833</td>\n",
       "      <td>247833</td>\n",
       "      <td>247833</td>\n",
       "      <td>236177</td>\n",
       "      <td>247833</td>\n",
       "    </tr>\n",
       "    <tr>\n",
       "      <th>(530.923, 582.735]</th>\n",
       "      <td>41111</td>\n",
       "      <td>41111</td>\n",
       "      <td>41111</td>\n",
       "      <td>41111</td>\n",
       "      <td>41111</td>\n",
       "      <td>41111</td>\n",
       "      <td>41111</td>\n",
       "      <td>41111</td>\n",
       "      <td>41111</td>\n",
       "      <td>39588</td>\n",
       "      <td>41111</td>\n",
       "    </tr>\n",
       "    <tr>\n",
       "      <th>(582.735, 634.547]</th>\n",
       "      <td>4176</td>\n",
       "      <td>4176</td>\n",
       "      <td>4176</td>\n",
       "      <td>4176</td>\n",
       "      <td>4176</td>\n",
       "      <td>4176</td>\n",
       "      <td>4176</td>\n",
       "      <td>4176</td>\n",
       "      <td>4176</td>\n",
       "      <td>4093</td>\n",
       "      <td>4176</td>\n",
       "    </tr>\n",
       "    <tr>\n",
       "      <th>(634.547, 686.359]</th>\n",
       "      <td>292</td>\n",
       "      <td>292</td>\n",
       "      <td>292</td>\n",
       "      <td>292</td>\n",
       "      <td>292</td>\n",
       "      <td>292</td>\n",
       "      <td>292</td>\n",
       "      <td>292</td>\n",
       "      <td>292</td>\n",
       "      <td>291</td>\n",
       "      <td>292</td>\n",
       "    </tr>\n",
       "  </tbody>\n",
       "</table>\n",
       "</div>"
      ],
      "text/plain": [
       "                     SMILES_str  stoich_str    mass     pce     voc     jsc  \\\n",
       "mass_group                                                                    \n",
       "(167.72, 220.0499]          937         937     937     937     937     937   \n",
       "(220.0499, 271.862]       21253       21253   21253   21253   21253   21253   \n",
       "(271.862, 323.674]       132159      132159  132159  132159  132159  132159   \n",
       "(323.674, 375.486]       395811      395811  395811  395811  395811  395811   \n",
       "(375.486, 427.298]       749908      749908  749908  749908  749908  749908   \n",
       "(427.298, 479.111]       729369      729369  729369  729369  729369  729369   \n",
       "(479.111, 530.923]       247833      247833  247833  247833  247833  247833   \n",
       "(530.923, 582.735]        41111       41111   41111   41111   41111   41111   \n",
       "(582.735, 634.547]         4176        4176    4176    4176    4176    4176   \n",
       "(634.547, 686.359]          292         292     292     292     292     292   \n",
       "\n",
       "                     e_homo_alpha  e_gap_alpha  e_lumo_alpha  tmp_smiles_str  \\\n",
       "mass_group                                                                     \n",
       "(167.72, 220.0499]            937          937           937             844   \n",
       "(220.0499, 271.862]         21253        21253         21253           20080   \n",
       "(271.862, 323.674]         132159       132159        132159          124329   \n",
       "(323.674, 375.486]         395811       395811        395811          373490   \n",
       "(375.486, 427.298]         749908       749908        749908          715158   \n",
       "(427.298, 479.111]         729369       729369        729369          699620   \n",
       "(479.111, 530.923]         247833       247833        247833          236177   \n",
       "(530.923, 582.735]          41111        41111         41111           39588   \n",
       "(582.735, 634.547]           4176         4176          4176            4093   \n",
       "(634.547, 686.359]            292          292           292             291   \n",
       "\n",
       "                     mass_ratio_H2O  \n",
       "mass_group                           \n",
       "(167.72, 220.0499]              937  \n",
       "(220.0499, 271.862]           21253  \n",
       "(271.862, 323.674]           132159  \n",
       "(323.674, 375.486]           395811  \n",
       "(375.486, 427.298]           749908  \n",
       "(427.298, 479.111]           729369  \n",
       "(479.111, 530.923]           247833  \n",
       "(530.923, 582.735]            41111  \n",
       "(582.735, 634.547]             4176  \n",
       "(634.547, 686.359]              292  "
      ]
     },
     "execution_count": 40,
     "metadata": {},
     "output_type": "execute_result"
    }
   ],
   "source": [
    "data.groupby(['mass_group']).count()"
   ]
  },
  {
   "cell_type": "markdown",
   "metadata": {},
   "source": [
    "Now, let's find the mean of each of the columns for each ``mass_group``.  *Notice* what happens to the non-numeric columns."
   ]
  },
  {
   "cell_type": "code",
   "execution_count": 42,
   "metadata": {
    "collapsed": false
   },
   "outputs": [
    {
     "data": {
      "text/html": [
       "<div>\n",
       "<table border=\"1\" class=\"dataframe\">\n",
       "  <thead>\n",
       "    <tr style=\"text-align: right;\">\n",
       "      <th></th>\n",
       "      <th>mass</th>\n",
       "      <th>pce</th>\n",
       "      <th>voc</th>\n",
       "      <th>jsc</th>\n",
       "      <th>e_homo_alpha</th>\n",
       "      <th>e_gap_alpha</th>\n",
       "      <th>e_lumo_alpha</th>\n",
       "      <th>mass_ratio_H2O</th>\n",
       "    </tr>\n",
       "    <tr>\n",
       "      <th>mass_group</th>\n",
       "      <th></th>\n",
       "      <th></th>\n",
       "      <th></th>\n",
       "      <th></th>\n",
       "      <th></th>\n",
       "      <th></th>\n",
       "      <th></th>\n",
       "      <th></th>\n",
       "    </tr>\n",
       "  </thead>\n",
       "  <tbody>\n",
       "    <tr>\n",
       "      <th>(167.72, 220.0499]</th>\n",
       "      <td>200.883189</td>\n",
       "      <td>0.984688</td>\n",
       "      <td>0.815517</td>\n",
       "      <td>28.384561</td>\n",
       "      <td>-5.401061</td>\n",
       "      <td>2.782885</td>\n",
       "      <td>-2.618176</td>\n",
       "      <td>11.150711</td>\n",
       "    </tr>\n",
       "    <tr>\n",
       "      <th>(220.0499, 271.862]</th>\n",
       "      <td>254.578292</td>\n",
       "      <td>1.658181</td>\n",
       "      <td>0.673716</td>\n",
       "      <td>49.137854</td>\n",
       "      <td>-5.267026</td>\n",
       "      <td>2.492683</td>\n",
       "      <td>-2.774343</td>\n",
       "      <td>14.131243</td>\n",
       "    </tr>\n",
       "    <tr>\n",
       "      <th>(271.862, 323.674]</th>\n",
       "      <td>301.611175</td>\n",
       "      <td>2.372569</td>\n",
       "      <td>0.660835</td>\n",
       "      <td>69.179613</td>\n",
       "      <td>-5.257699</td>\n",
       "      <td>2.287170</td>\n",
       "      <td>-2.970529</td>\n",
       "      <td>16.741964</td>\n",
       "    </tr>\n",
       "    <tr>\n",
       "      <th>(323.674, 375.486]</th>\n",
       "      <td>351.087766</td>\n",
       "      <td>3.210127</td>\n",
       "      <td>0.625780</td>\n",
       "      <td>91.152983</td>\n",
       "      <td>-5.233774</td>\n",
       "      <td>2.091818</td>\n",
       "      <td>-3.141957</td>\n",
       "      <td>19.488332</td>\n",
       "    </tr>\n",
       "    <tr>\n",
       "      <th>(375.486, 427.298]</th>\n",
       "      <td>401.579728</td>\n",
       "      <td>3.918477</td>\n",
       "      <td>0.566805</td>\n",
       "      <td>116.591717</td>\n",
       "      <td>-5.183407</td>\n",
       "      <td>1.903792</td>\n",
       "      <td>-3.279615</td>\n",
       "      <td>22.291062</td>\n",
       "    </tr>\n",
       "    <tr>\n",
       "      <th>(427.298, 479.111]</th>\n",
       "      <td>452.051313</td>\n",
       "      <td>4.441766</td>\n",
       "      <td>0.509674</td>\n",
       "      <td>140.703180</td>\n",
       "      <td>-5.136794</td>\n",
       "      <td>1.742163</td>\n",
       "      <td>-3.394631</td>\n",
       "      <td>25.092661</td>\n",
       "    </tr>\n",
       "    <tr>\n",
       "      <th>(479.111, 530.923]</th>\n",
       "      <td>503.278084</td>\n",
       "      <td>4.480230</td>\n",
       "      <td>0.467202</td>\n",
       "      <td>148.073101</td>\n",
       "      <td>-5.115852</td>\n",
       "      <td>1.667151</td>\n",
       "      <td>-3.448701</td>\n",
       "      <td>27.936179</td>\n",
       "    </tr>\n",
       "    <tr>\n",
       "      <th>(530.923, 582.735]</th>\n",
       "      <td>550.076470</td>\n",
       "      <td>4.535071</td>\n",
       "      <td>0.434818</td>\n",
       "      <td>148.438136</td>\n",
       "      <td>-5.117461</td>\n",
       "      <td>1.593890</td>\n",
       "      <td>-3.523570</td>\n",
       "      <td>30.533884</td>\n",
       "    </tr>\n",
       "    <tr>\n",
       "      <th>(582.735, 634.547]</th>\n",
       "      <td>593.530994</td>\n",
       "      <td>4.694802</td>\n",
       "      <td>0.421064</td>\n",
       "      <td>151.808823</td>\n",
       "      <td>-5.106992</td>\n",
       "      <td>1.545764</td>\n",
       "      <td>-3.561228</td>\n",
       "      <td>32.945977</td>\n",
       "    </tr>\n",
       "    <tr>\n",
       "      <th>(634.547, 686.359]</th>\n",
       "      <td>640.290482</td>\n",
       "      <td>4.716907</td>\n",
       "      <td>0.411735</td>\n",
       "      <td>164.561936</td>\n",
       "      <td>-5.049109</td>\n",
       "      <td>1.541983</td>\n",
       "      <td>-3.507127</td>\n",
       "      <td>35.541523</td>\n",
       "    </tr>\n",
       "  </tbody>\n",
       "</table>\n",
       "</div>"
      ],
      "text/plain": [
       "                           mass       pce       voc         jsc  e_homo_alpha  \\\n",
       "mass_group                                                                      \n",
       "(167.72, 220.0499]   200.883189  0.984688  0.815517   28.384561     -5.401061   \n",
       "(220.0499, 271.862]  254.578292  1.658181  0.673716   49.137854     -5.267026   \n",
       "(271.862, 323.674]   301.611175  2.372569  0.660835   69.179613     -5.257699   \n",
       "(323.674, 375.486]   351.087766  3.210127  0.625780   91.152983     -5.233774   \n",
       "(375.486, 427.298]   401.579728  3.918477  0.566805  116.591717     -5.183407   \n",
       "(427.298, 479.111]   452.051313  4.441766  0.509674  140.703180     -5.136794   \n",
       "(479.111, 530.923]   503.278084  4.480230  0.467202  148.073101     -5.115852   \n",
       "(530.923, 582.735]   550.076470  4.535071  0.434818  148.438136     -5.117461   \n",
       "(582.735, 634.547]   593.530994  4.694802  0.421064  151.808823     -5.106992   \n",
       "(634.547, 686.359]   640.290482  4.716907  0.411735  164.561936     -5.049109   \n",
       "\n",
       "                     e_gap_alpha  e_lumo_alpha  mass_ratio_H2O  \n",
       "mass_group                                                      \n",
       "(167.72, 220.0499]      2.782885     -2.618176       11.150711  \n",
       "(220.0499, 271.862]     2.492683     -2.774343       14.131243  \n",
       "(271.862, 323.674]      2.287170     -2.970529       16.741964  \n",
       "(323.674, 375.486]      2.091818     -3.141957       19.488332  \n",
       "(375.486, 427.298]      1.903792     -3.279615       22.291062  \n",
       "(427.298, 479.111]      1.742163     -3.394631       25.092661  \n",
       "(479.111, 530.923]      1.667151     -3.448701       27.936179  \n",
       "(530.923, 582.735]      1.593890     -3.523570       30.533884  \n",
       "(582.735, 634.547]      1.545764     -3.561228       32.945977  \n",
       "(634.547, 686.359]      1.541983     -3.507127       35.541523  "
      ]
     },
     "execution_count": 42,
     "metadata": {},
     "output_type": "execute_result"
    }
   ],
   "source": [
    "data.groupby(['mass_group']).mean()"
   ]
  },
  {
   "cell_type": "markdown",
   "metadata": {},
   "source": [
    "You can specify a groupby using the names of table columns and compute other functions, such as the ``sum``, ``count``, ``std``, and ``describe``."
   ]
  },
  {
   "cell_type": "code",
   "execution_count": 56,
   "metadata": {
    "collapsed": false
   },
   "outputs": [
    {
     "data": {
      "text/plain": [
       "mass_group                \n",
       "(167.72, 220.0499]   count       937.000000\n",
       "                     mean          0.984688\n",
       "                     std           0.873994\n",
       "                     min           0.000000\n",
       "                     25%           0.413301\n",
       "                     50%           0.786599\n",
       "                     75%           1.325538\n",
       "                     max           5.746969\n",
       "(220.0499, 271.862]  count     21253.000000\n",
       "                     mean          1.658181\n",
       "                     std           1.342245\n",
       "                     min           0.000000\n",
       "                     25%           0.735355\n",
       "                     50%           1.331621\n",
       "                     75%           2.252834\n",
       "                     max          10.956561\n",
       "(271.862, 323.674]   count    132159.000000\n",
       "                     mean          2.372569\n",
       "                     std           1.727534\n",
       "                     min           0.000000\n",
       "                     25%           1.173593\n",
       "                     50%           1.984474\n",
       "                     75%           3.182373\n",
       "                     max          11.062819\n",
       "(323.674, 375.486]   count    395811.000000\n",
       "                     mean          3.210127\n",
       "                     std           2.155961\n",
       "                     min           0.000000\n",
       "                     25%           1.685650\n",
       "                     50%           2.728819\n",
       "                                  ...      \n",
       "(479.111, 530.923]   std           2.729844\n",
       "                     min           0.000000\n",
       "                     25%           2.485322\n",
       "                     50%           4.070540\n",
       "                     75%           6.461316\n",
       "                     max          11.118864\n",
       "(530.923, 582.735]   count     41111.000000\n",
       "                     mean          4.535071\n",
       "                     std           2.936067\n",
       "                     min           0.000000\n",
       "                     25%           2.501887\n",
       "                     50%           4.038260\n",
       "                     75%           6.801271\n",
       "                     max          11.112351\n",
       "(582.735, 634.547]   count      4176.000000\n",
       "                     mean          4.694802\n",
       "                     std           2.948578\n",
       "                     min           0.000000\n",
       "                     25%           3.017875\n",
       "                     50%           4.043051\n",
       "                     75%           7.011431\n",
       "                     max          11.020831\n",
       "(634.547, 686.359]   count       292.000000\n",
       "                     mean          4.716907\n",
       "                     std           2.454961\n",
       "                     min           0.000000\n",
       "                     25%           3.345544\n",
       "                     50%           3.878462\n",
       "                     75%           6.152368\n",
       "                     max          10.858928\n",
       "dtype: float64"
      ]
     },
     "execution_count": 56,
     "metadata": {},
     "output_type": "execute_result"
    }
   ],
   "source": [
    "data.groupby(['mass_group'])['pce'].describe()"
   ]
  },
  {
   "cell_type": "markdown",
   "metadata": {},
   "source": [
    "The simplest version of a groupby looks like this, and you can use almost any aggregation function you wish (mean, median, sum, minimum, maximum, standard deviation, count, etc.)\n",
    "\n",
    "```\n",
    "<data object>.groupby(<grouping values>).<aggregate>()\n",
    "```\n",
    "\n",
    "You can even group by multiple values: for example we can look at the LUMO-HOMO gap grouped by the ``mass_group`` and ``pce``."
   ]
  },
  {
   "cell_type": "code",
   "execution_count": 71,
   "metadata": {
    "collapsed": false
   },
   "outputs": [
    {
     "data": {
      "text/plain": [
       "mass_group          pce      \n",
       "(167.72, 220.0499]  0.000000     2.412702\n",
       "                    0.000245     2.099989\n",
       "                    0.004285     2.953079\n",
       "                    0.005825     3.073889\n",
       "                    0.008490     2.722965\n",
       "                    0.008899     2.136513\n",
       "                    0.044463     2.452195\n",
       "                    0.046568     2.823902\n",
       "                    0.046691     3.114940\n",
       "                    0.048831     3.140034\n",
       "                    0.052351     2.884674\n",
       "                    0.055327     2.728120\n",
       "                    0.059029     2.880716\n",
       "                    0.061336     2.844688\n",
       "                    0.072549     3.090869\n",
       "                    0.079122     3.159215\n",
       "                    0.080511     3.364599\n",
       "                    0.083184     2.854799\n",
       "                    0.084001     1.942450\n",
       "                    0.084225     1.974778\n",
       "                    0.094322     3.709872\n",
       "                    0.101431     2.850968\n",
       "                    0.104110     2.307507\n",
       "                    0.111652     2.742858\n",
       "                    0.113507     2.809079\n",
       "                    0.114355     2.319816\n",
       "                    0.115878     3.608025\n",
       "                    0.125624     3.028626\n",
       "                    0.125981     3.340156\n",
       "                    0.130970     2.554368\n",
       "                                   ...   \n",
       "(634.547, 686.359]  9.066947     1.175464\n",
       "                    9.185450     1.100996\n",
       "                    9.186357     1.548446\n",
       "                    9.270504     1.145993\n",
       "                    9.347098     1.198710\n",
       "                    9.349263     1.196206\n",
       "                    9.360067     1.220964\n",
       "                    9.362396     1.204888\n",
       "                    9.364733     1.219149\n",
       "                    9.391619     1.135501\n",
       "                    9.413005     1.183518\n",
       "                    9.424252     1.155483\n",
       "                    9.463312     1.222076\n",
       "                    9.534784     1.135481\n",
       "                    9.548010     1.142618\n",
       "                    9.571270     1.134874\n",
       "                    9.598884     1.122950\n",
       "                    9.603046     1.179339\n",
       "                    9.661744     1.177666\n",
       "                    9.710178     1.178226\n",
       "                    9.715666     1.161244\n",
       "                    9.761812     1.191025\n",
       "                    9.807911     1.188336\n",
       "                    9.814294     1.170697\n",
       "                    10.012045    1.195555\n",
       "                    10.036598    1.461847\n",
       "                    10.401586    1.409304\n",
       "                    10.430989    1.436652\n",
       "                    10.698090    1.393320\n",
       "                    10.858928    1.352444\n",
       "Name: e_gap_alpha, dtype: float64"
      ]
     },
     "execution_count": 71,
     "metadata": {},
     "output_type": "execute_result"
    }
   ],
   "source": [
    "grouped = data.groupby(['mass_group', 'pce'])['e_gap_alpha'].mean()\n",
    "grouped"
   ]
  },
  {
   "cell_type": "markdown",
   "metadata": {},
   "source": [
    "## 5. Visualizing data with ``pandas``\n",
    "\n",
    "Of course, looking at tables of data is not very intuitive.\n",
    "Fortunately Pandas has many useful plotting functions built-in, all of which make use of the ``matplotlib`` library to generate plots.\n",
    "\n",
    "Whenever you do plotting in the Jupyter notebook, you will want to first run this *magic command* which configures the notebook to work well with plots:"
   ]
  },
  {
   "cell_type": "code",
   "execution_count": 50,
   "metadata": {
    "collapsed": true
   },
   "outputs": [],
   "source": [
    "%matplotlib inline"
   ]
  },
  {
   "cell_type": "markdown",
   "metadata": {},
   "source": [
    "Now we can simply call the ``plot()`` method of any series or dataframe to get a reasonable view of the data:"
   ]
  },
  {
   "cell_type": "code",
   "execution_count": 51,
   "metadata": {
    "collapsed": false
   },
   "outputs": [
    {
     "data": {
      "text/plain": [
       "<matplotlib.axes._subplots.AxesSubplot at 0x10fb4c748>"
      ]
     },
     "execution_count": 51,
     "metadata": {},
     "output_type": "execute_result"
    },
    {
     "data": {
      "image/png": "[encoded data removed]",
      "text/plain": [
       "<matplotlib.figure.Figure at 0x10fb9ee48>"
      ]
     },
     "metadata": {},
     "output_type": "display_data"
    }
   ],
   "source": [
    "data.groupby(['mass_group'])['pce'].mean().plot()"
   ]
  },
  {
   "cell_type": "markdown",
   "metadata": {},
   "source": [
    "### Other plot types\n",
    "\n",
    "Pandas supports a range of other plotting types; you can find these by using the <TAB> autocomplete on the ``plot`` method:"
   ]
  },
  {
   "cell_type": "code",
   "execution_count": 79,
   "metadata": {
    "collapsed": false
   },
   "outputs": [
    {
     "data": {
      "text/plain": [
       "(array([ 0.,  0.,  0.,  0.,  0.,  1.,  0.,  0.,  0.,  0.]),\n",
       " array([  9.5,   9.6,   9.7,   9.8,   9.9,  10. ,  10.1,  10.2,  10.3,\n",
       "         10.4,  10.5]),\n",
       " <a list of 10 Patch objects>)"
      ]
     },
     "execution_count": 79,
     "metadata": {},
     "output_type": "execute_result"
    },
    {
     "data": {
      "image/png": "[encoded data removed]",
      "text/plain": [
       "<matplotlib.figure.Figure at 0x1b0d47da0>"
      ]
     },
     "metadata": {},
     "output_type": "display_data"
    }
   ],
   "source": [
    "data.groupby(['mass_group'])['SMILES_str'].count().plot().hist(10)"
   ]
  }
 ],
 "metadata": {
  "anaconda-cloud": {},
  "kernelspec": {
   "display_name": "Python 3",
   "language": "python",
   "name": "python3"
  },
  "language_info": {
   "codemirror_mode": {
    "name": "ipython",
    "version": 3
   },
   "file_extension": ".py",
   "mimetype": "text/x-python",
   "name": "python",
   "nbconvert_exporter": "python",
   "pygments_lexer": "ipython3",
   "version": "3.5.1"
  }
 },
 "nbformat": 4,
 "nbformat_minor": 0
}
